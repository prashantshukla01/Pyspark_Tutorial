{
  "nbformat": 4,
  "nbformat_minor": 0,
  "metadata": {
    "colab": {
      "provenance": [],
      "authorship_tag": "ABX9TyN1yg5e6y3oheVvGySnjoUI",
      "include_colab_link": true
    },
    "kernelspec": {
      "name": "python3",
      "display_name": "Python 3"
    },
    "language_info": {
      "name": "python"
    }
  },
  "cells": [
    {
      "cell_type": "markdown",
      "metadata": {
        "id": "view-in-github",
        "colab_type": "text"
      },
      "source": [
        "<a href=\"https://colab.research.google.com/github/prashantshukla01/Pyspark_Tutorial/blob/main/tutorial_2.ipynb\" target=\"_parent\"><img src=\"https://colab.research.google.com/assets/colab-badge.svg\" alt=\"Open In Colab\"/></a>"
      ]
    },
    {
      "cell_type": "code",
      "execution_count": 1,
      "metadata": {
        "colab": {
          "base_uri": "https://localhost:8080/"
        },
        "id": "mlQJWegGZZMJ",
        "outputId": "722ef7a0-8e18-46ed-afd4-04df35c39e21"
      },
      "outputs": [
        {
          "output_type": "stream",
          "name": "stdout",
          "text": [
            "Requirement already satisfied: pyspark in /usr/local/lib/python3.12/dist-packages (3.5.1)\n",
            "Requirement already satisfied: py4j==0.10.9.7 in /usr/local/lib/python3.12/dist-packages (from pyspark) (0.10.9.7)\n"
          ]
        }
      ],
      "source": [
        "!pip install pyspark"
      ]
    },
    {
      "cell_type": "code",
      "source": [
        "import pyspark"
      ],
      "metadata": {
        "id": "f1PdzQMiZhTe"
      },
      "execution_count": 2,
      "outputs": []
    },
    {
      "cell_type": "code",
      "source": [
        "import pandas as pd"
      ],
      "metadata": {
        "id": "qwRnWnxPZns5"
      },
      "execution_count": 3,
      "outputs": []
    },
    {
      "cell_type": "code",
      "source": [
        "pd.read_csv('cars.csv')"
      ],
      "metadata": {
        "colab": {
          "base_uri": "https://localhost:8080/",
          "height": 419
        },
        "id": "MDVdJFwJo54Z",
        "outputId": "09cae994-f1a7-469c-ee0e-d3f35f96ac66"
      },
      "execution_count": 4,
      "outputs": [
        {
          "output_type": "execute_result",
          "data": {
            "text/plain": [
              "        brand  km_driven    fuel                 owner  selling_price\n",
              "0      Maruti     145500  Diesel           First Owner         450000\n",
              "1       Skoda     120000  Diesel          Second Owner         370000\n",
              "2       Honda     140000  Petrol           Third Owner         158000\n",
              "3     Hyundai     127000  Diesel           First Owner         225000\n",
              "4      Maruti     120000  Petrol           First Owner         130000\n",
              "...       ...        ...     ...                   ...            ...\n",
              "8123  Hyundai     110000  Petrol           First Owner         320000\n",
              "8124  Hyundai     119000  Diesel  Fourth & Above Owner         135000\n",
              "8125   Maruti     120000  Diesel           First Owner         382000\n",
              "8126     Tata      25000  Diesel           First Owner         290000\n",
              "8127     Tata      25000  Diesel           First Owner         290000\n",
              "\n",
              "[8128 rows x 5 columns]"
            ],
            "text/html": [
              "\n",
              "  <div id=\"df-67cddc1a-eb71-481d-85d3-12990e275206\" class=\"colab-df-container\">\n",
              "    <div>\n",
              "<style scoped>\n",
              "    .dataframe tbody tr th:only-of-type {\n",
              "        vertical-align: middle;\n",
              "    }\n",
              "\n",
              "    .dataframe tbody tr th {\n",
              "        vertical-align: top;\n",
              "    }\n",
              "\n",
              "    .dataframe thead th {\n",
              "        text-align: right;\n",
              "    }\n",
              "</style>\n",
              "<table border=\"1\" class=\"dataframe\">\n",
              "  <thead>\n",
              "    <tr style=\"text-align: right;\">\n",
              "      <th></th>\n",
              "      <th>brand</th>\n",
              "      <th>km_driven</th>\n",
              "      <th>fuel</th>\n",
              "      <th>owner</th>\n",
              "      <th>selling_price</th>\n",
              "    </tr>\n",
              "  </thead>\n",
              "  <tbody>\n",
              "    <tr>\n",
              "      <th>0</th>\n",
              "      <td>Maruti</td>\n",
              "      <td>145500</td>\n",
              "      <td>Diesel</td>\n",
              "      <td>First Owner</td>\n",
              "      <td>450000</td>\n",
              "    </tr>\n",
              "    <tr>\n",
              "      <th>1</th>\n",
              "      <td>Skoda</td>\n",
              "      <td>120000</td>\n",
              "      <td>Diesel</td>\n",
              "      <td>Second Owner</td>\n",
              "      <td>370000</td>\n",
              "    </tr>\n",
              "    <tr>\n",
              "      <th>2</th>\n",
              "      <td>Honda</td>\n",
              "      <td>140000</td>\n",
              "      <td>Petrol</td>\n",
              "      <td>Third Owner</td>\n",
              "      <td>158000</td>\n",
              "    </tr>\n",
              "    <tr>\n",
              "      <th>3</th>\n",
              "      <td>Hyundai</td>\n",
              "      <td>127000</td>\n",
              "      <td>Diesel</td>\n",
              "      <td>First Owner</td>\n",
              "      <td>225000</td>\n",
              "    </tr>\n",
              "    <tr>\n",
              "      <th>4</th>\n",
              "      <td>Maruti</td>\n",
              "      <td>120000</td>\n",
              "      <td>Petrol</td>\n",
              "      <td>First Owner</td>\n",
              "      <td>130000</td>\n",
              "    </tr>\n",
              "    <tr>\n",
              "      <th>...</th>\n",
              "      <td>...</td>\n",
              "      <td>...</td>\n",
              "      <td>...</td>\n",
              "      <td>...</td>\n",
              "      <td>...</td>\n",
              "    </tr>\n",
              "    <tr>\n",
              "      <th>8123</th>\n",
              "      <td>Hyundai</td>\n",
              "      <td>110000</td>\n",
              "      <td>Petrol</td>\n",
              "      <td>First Owner</td>\n",
              "      <td>320000</td>\n",
              "    </tr>\n",
              "    <tr>\n",
              "      <th>8124</th>\n",
              "      <td>Hyundai</td>\n",
              "      <td>119000</td>\n",
              "      <td>Diesel</td>\n",
              "      <td>Fourth &amp; Above Owner</td>\n",
              "      <td>135000</td>\n",
              "    </tr>\n",
              "    <tr>\n",
              "      <th>8125</th>\n",
              "      <td>Maruti</td>\n",
              "      <td>120000</td>\n",
              "      <td>Diesel</td>\n",
              "      <td>First Owner</td>\n",
              "      <td>382000</td>\n",
              "    </tr>\n",
              "    <tr>\n",
              "      <th>8126</th>\n",
              "      <td>Tata</td>\n",
              "      <td>25000</td>\n",
              "      <td>Diesel</td>\n",
              "      <td>First Owner</td>\n",
              "      <td>290000</td>\n",
              "    </tr>\n",
              "    <tr>\n",
              "      <th>8127</th>\n",
              "      <td>Tata</td>\n",
              "      <td>25000</td>\n",
              "      <td>Diesel</td>\n",
              "      <td>First Owner</td>\n",
              "      <td>290000</td>\n",
              "    </tr>\n",
              "  </tbody>\n",
              "</table>\n",
              "<p>8128 rows × 5 columns</p>\n",
              "</div>\n",
              "    <div class=\"colab-df-buttons\">\n",
              "\n",
              "  <div class=\"colab-df-container\">\n",
              "    <button class=\"colab-df-convert\" onclick=\"convertToInteractive('df-67cddc1a-eb71-481d-85d3-12990e275206')\"\n",
              "            title=\"Convert this dataframe to an interactive table.\"\n",
              "            style=\"display:none;\">\n",
              "\n",
              "  <svg xmlns=\"http://www.w3.org/2000/svg\" height=\"24px\" viewBox=\"0 -960 960 960\">\n",
              "    <path d=\"M120-120v-720h720v720H120Zm60-500h600v-160H180v160Zm220 220h160v-160H400v160Zm0 220h160v-160H400v160ZM180-400h160v-160H180v160Zm440 0h160v-160H620v160ZM180-180h160v-160H180v160Zm440 0h160v-160H620v160Z\"/>\n",
              "  </svg>\n",
              "    </button>\n",
              "\n",
              "  <style>\n",
              "    .colab-df-container {\n",
              "      display:flex;\n",
              "      gap: 12px;\n",
              "    }\n",
              "\n",
              "    .colab-df-convert {\n",
              "      background-color: #E8F0FE;\n",
              "      border: none;\n",
              "      border-radius: 50%;\n",
              "      cursor: pointer;\n",
              "      display: none;\n",
              "      fill: #1967D2;\n",
              "      height: 32px;\n",
              "      padding: 0 0 0 0;\n",
              "      width: 32px;\n",
              "    }\n",
              "\n",
              "    .colab-df-convert:hover {\n",
              "      background-color: #E2EBFA;\n",
              "      box-shadow: 0px 1px 2px rgba(60, 64, 67, 0.3), 0px 1px 3px 1px rgba(60, 64, 67, 0.15);\n",
              "      fill: #174EA6;\n",
              "    }\n",
              "\n",
              "    .colab-df-buttons div {\n",
              "      margin-bottom: 4px;\n",
              "    }\n",
              "\n",
              "    [theme=dark] .colab-df-convert {\n",
              "      background-color: #3B4455;\n",
              "      fill: #D2E3FC;\n",
              "    }\n",
              "\n",
              "    [theme=dark] .colab-df-convert:hover {\n",
              "      background-color: #434B5C;\n",
              "      box-shadow: 0px 1px 3px 1px rgba(0, 0, 0, 0.15);\n",
              "      filter: drop-shadow(0px 1px 2px rgba(0, 0, 0, 0.3));\n",
              "      fill: #FFFFFF;\n",
              "    }\n",
              "  </style>\n",
              "\n",
              "    <script>\n",
              "      const buttonEl =\n",
              "        document.querySelector('#df-67cddc1a-eb71-481d-85d3-12990e275206 button.colab-df-convert');\n",
              "      buttonEl.style.display =\n",
              "        google.colab.kernel.accessAllowed ? 'block' : 'none';\n",
              "\n",
              "      async function convertToInteractive(key) {\n",
              "        const element = document.querySelector('#df-67cddc1a-eb71-481d-85d3-12990e275206');\n",
              "        const dataTable =\n",
              "          await google.colab.kernel.invokeFunction('convertToInteractive',\n",
              "                                                    [key], {});\n",
              "        if (!dataTable) return;\n",
              "\n",
              "        const docLinkHtml = 'Like what you see? Visit the ' +\n",
              "          '<a target=\"_blank\" href=https://colab.research.google.com/notebooks/data_table.ipynb>data table notebook</a>'\n",
              "          + ' to learn more about interactive tables.';\n",
              "        element.innerHTML = '';\n",
              "        dataTable['output_type'] = 'display_data';\n",
              "        await google.colab.output.renderOutput(dataTable, element);\n",
              "        const docLink = document.createElement('div');\n",
              "        docLink.innerHTML = docLinkHtml;\n",
              "        element.appendChild(docLink);\n",
              "      }\n",
              "    </script>\n",
              "  </div>\n",
              "\n",
              "\n",
              "    <div id=\"df-4692e0d2-b71f-45a7-becb-380b754061e2\">\n",
              "      <button class=\"colab-df-quickchart\" onclick=\"quickchart('df-4692e0d2-b71f-45a7-becb-380b754061e2')\"\n",
              "                title=\"Suggest charts\"\n",
              "                style=\"display:none;\">\n",
              "\n",
              "<svg xmlns=\"http://www.w3.org/2000/svg\" height=\"24px\"viewBox=\"0 0 24 24\"\n",
              "     width=\"24px\">\n",
              "    <g>\n",
              "        <path d=\"M19 3H5c-1.1 0-2 .9-2 2v14c0 1.1.9 2 2 2h14c1.1 0 2-.9 2-2V5c0-1.1-.9-2-2-2zM9 17H7v-7h2v7zm4 0h-2V7h2v10zm4 0h-2v-4h2v4z\"/>\n",
              "    </g>\n",
              "</svg>\n",
              "      </button>\n",
              "\n",
              "<style>\n",
              "  .colab-df-quickchart {\n",
              "      --bg-color: #E8F0FE;\n",
              "      --fill-color: #1967D2;\n",
              "      --hover-bg-color: #E2EBFA;\n",
              "      --hover-fill-color: #174EA6;\n",
              "      --disabled-fill-color: #AAA;\n",
              "      --disabled-bg-color: #DDD;\n",
              "  }\n",
              "\n",
              "  [theme=dark] .colab-df-quickchart {\n",
              "      --bg-color: #3B4455;\n",
              "      --fill-color: #D2E3FC;\n",
              "      --hover-bg-color: #434B5C;\n",
              "      --hover-fill-color: #FFFFFF;\n",
              "      --disabled-bg-color: #3B4455;\n",
              "      --disabled-fill-color: #666;\n",
              "  }\n",
              "\n",
              "  .colab-df-quickchart {\n",
              "    background-color: var(--bg-color);\n",
              "    border: none;\n",
              "    border-radius: 50%;\n",
              "    cursor: pointer;\n",
              "    display: none;\n",
              "    fill: var(--fill-color);\n",
              "    height: 32px;\n",
              "    padding: 0;\n",
              "    width: 32px;\n",
              "  }\n",
              "\n",
              "  .colab-df-quickchart:hover {\n",
              "    background-color: var(--hover-bg-color);\n",
              "    box-shadow: 0 1px 2px rgba(60, 64, 67, 0.3), 0 1px 3px 1px rgba(60, 64, 67, 0.15);\n",
              "    fill: var(--button-hover-fill-color);\n",
              "  }\n",
              "\n",
              "  .colab-df-quickchart-complete:disabled,\n",
              "  .colab-df-quickchart-complete:disabled:hover {\n",
              "    background-color: var(--disabled-bg-color);\n",
              "    fill: var(--disabled-fill-color);\n",
              "    box-shadow: none;\n",
              "  }\n",
              "\n",
              "  .colab-df-spinner {\n",
              "    border: 2px solid var(--fill-color);\n",
              "    border-color: transparent;\n",
              "    border-bottom-color: var(--fill-color);\n",
              "    animation:\n",
              "      spin 1s steps(1) infinite;\n",
              "  }\n",
              "\n",
              "  @keyframes spin {\n",
              "    0% {\n",
              "      border-color: transparent;\n",
              "      border-bottom-color: var(--fill-color);\n",
              "      border-left-color: var(--fill-color);\n",
              "    }\n",
              "    20% {\n",
              "      border-color: transparent;\n",
              "      border-left-color: var(--fill-color);\n",
              "      border-top-color: var(--fill-color);\n",
              "    }\n",
              "    30% {\n",
              "      border-color: transparent;\n",
              "      border-left-color: var(--fill-color);\n",
              "      border-top-color: var(--fill-color);\n",
              "      border-right-color: var(--fill-color);\n",
              "    }\n",
              "    40% {\n",
              "      border-color: transparent;\n",
              "      border-right-color: var(--fill-color);\n",
              "      border-top-color: var(--fill-color);\n",
              "    }\n",
              "    60% {\n",
              "      border-color: transparent;\n",
              "      border-right-color: var(--fill-color);\n",
              "    }\n",
              "    80% {\n",
              "      border-color: transparent;\n",
              "      border-right-color: var(--fill-color);\n",
              "      border-bottom-color: var(--fill-color);\n",
              "    }\n",
              "    90% {\n",
              "      border-color: transparent;\n",
              "      border-bottom-color: var(--fill-color);\n",
              "    }\n",
              "  }\n",
              "</style>\n",
              "\n",
              "      <script>\n",
              "        async function quickchart(key) {\n",
              "          const quickchartButtonEl =\n",
              "            document.querySelector('#' + key + ' button');\n",
              "          quickchartButtonEl.disabled = true;  // To prevent multiple clicks.\n",
              "          quickchartButtonEl.classList.add('colab-df-spinner');\n",
              "          try {\n",
              "            const charts = await google.colab.kernel.invokeFunction(\n",
              "                'suggestCharts', [key], {});\n",
              "          } catch (error) {\n",
              "            console.error('Error during call to suggestCharts:', error);\n",
              "          }\n",
              "          quickchartButtonEl.classList.remove('colab-df-spinner');\n",
              "          quickchartButtonEl.classList.add('colab-df-quickchart-complete');\n",
              "        }\n",
              "        (() => {\n",
              "          let quickchartButtonEl =\n",
              "            document.querySelector('#df-4692e0d2-b71f-45a7-becb-380b754061e2 button');\n",
              "          quickchartButtonEl.style.display =\n",
              "            google.colab.kernel.accessAllowed ? 'block' : 'none';\n",
              "        })();\n",
              "      </script>\n",
              "    </div>\n",
              "\n",
              "    </div>\n",
              "  </div>\n"
            ],
            "application/vnd.google.colaboratory.intrinsic+json": {
              "type": "dataframe",
              "summary": "{\n  \"name\": \"pd\",\n  \"rows\": 8128,\n  \"fields\": [\n    {\n      \"column\": \"brand\",\n      \"properties\": {\n        \"dtype\": \"category\",\n        \"num_unique_values\": 32,\n        \"samples\": [\n          \"Isuzu\",\n          \"Audi\",\n          \"Daewoo\"\n        ],\n        \"semantic_type\": \"\",\n        \"description\": \"\"\n      }\n    },\n    {\n      \"column\": \"km_driven\",\n      \"properties\": {\n        \"dtype\": \"number\",\n        \"std\": 56550,\n        \"min\": 1,\n        \"max\": 2360457,\n        \"num_unique_values\": 921,\n        \"samples\": [\n          6757,\n          26766,\n          15858\n        ],\n        \"semantic_type\": \"\",\n        \"description\": \"\"\n      }\n    },\n    {\n      \"column\": \"fuel\",\n      \"properties\": {\n        \"dtype\": \"category\",\n        \"num_unique_values\": 4,\n        \"samples\": [\n          \"Petrol\",\n          \"CNG\",\n          \"Diesel\"\n        ],\n        \"semantic_type\": \"\",\n        \"description\": \"\"\n      }\n    },\n    {\n      \"column\": \"owner\",\n      \"properties\": {\n        \"dtype\": \"category\",\n        \"num_unique_values\": 5,\n        \"samples\": [\n          \"Second Owner\",\n          \"Test Drive Car\",\n          \"Third Owner\"\n        ],\n        \"semantic_type\": \"\",\n        \"description\": \"\"\n      }\n    },\n    {\n      \"column\": \"selling_price\",\n      \"properties\": {\n        \"dtype\": \"number\",\n        \"std\": 806253,\n        \"min\": 29999,\n        \"max\": 10000000,\n        \"num_unique_values\": 677,\n        \"samples\": [\n          944999,\n          665000,\n          484999\n        ],\n        \"semantic_type\": \"\",\n        \"description\": \"\"\n      }\n    }\n  ]\n}"
            }
          },
          "metadata": {},
          "execution_count": 4
        }
      ]
    },
    {
      "cell_type": "code",
      "source": [
        "from pyspark.sql import SparkSession"
      ],
      "metadata": {
        "id": "v_mGIJ_fpAWH"
      },
      "execution_count": 5,
      "outputs": []
    },
    {
      "cell_type": "code",
      "source": [
        "spark = SparkSession.builder.appName('Practise').getOrCreate()"
      ],
      "metadata": {
        "id": "NMGVxwAApPMo"
      },
      "execution_count": 6,
      "outputs": []
    },
    {
      "cell_type": "code",
      "source": [
        "spark"
      ],
      "metadata": {
        "colab": {
          "base_uri": "https://localhost:8080/",
          "height": 216
        },
        "id": "Kh6kqjAqpbzX",
        "outputId": "692b376c-d846-42a4-b953-95ccb690074a"
      },
      "execution_count": 7,
      "outputs": [
        {
          "output_type": "execute_result",
          "data": {
            "text/plain": [
              "<pyspark.sql.session.SparkSession at 0x7e0d06ea3da0>"
            ],
            "text/html": [
              "\n",
              "            <div>\n",
              "                <p><b>SparkSession - in-memory</b></p>\n",
              "                \n",
              "        <div>\n",
              "            <p><b>SparkContext</b></p>\n",
              "\n",
              "            <p><a href=\"http://1f7b32c40daa:4040\">Spark UI</a></p>\n",
              "\n",
              "            <dl>\n",
              "              <dt>Version</dt>\n",
              "                <dd><code>v3.5.1</code></dd>\n",
              "              <dt>Master</dt>\n",
              "                <dd><code>local[*]</code></dd>\n",
              "              <dt>AppName</dt>\n",
              "                <dd><code>Practise</code></dd>\n",
              "            </dl>\n",
              "        </div>\n",
              "        \n",
              "            </div>\n",
              "        "
            ]
          },
          "metadata": {},
          "execution_count": 7
        }
      ]
    },
    {
      "cell_type": "code",
      "source": [
        "df_pyspark = spark.read.csv('cars.csv')"
      ],
      "metadata": {
        "id": "0TFwwgSupfuk"
      },
      "execution_count": 7,
      "outputs": []
    },
    {
      "cell_type": "code",
      "source": [
        "df_pyspark.show()"
      ],
      "metadata": {
        "colab": {
          "base_uri": "https://localhost:8080/"
        },
        "id": "jqrNKyCVpyvI",
        "outputId": "43998832-c54b-47b1-d11c-a5249f14286b"
      },
      "execution_count": 8,
      "outputs": [
        {
          "output_type": "stream",
          "name": "stdout",
          "text": [
            "+--------+---------+------+------------+-------------+\n",
            "|     _c0|      _c1|   _c2|         _c3|          _c4|\n",
            "+--------+---------+------+------------+-------------+\n",
            "|   brand|km_driven|  fuel|       owner|selling_price|\n",
            "|  Maruti|   145500|Diesel| First Owner|       450000|\n",
            "|   Skoda|   120000|Diesel|Second Owner|       370000|\n",
            "|   Honda|   140000|Petrol| Third Owner|       158000|\n",
            "| Hyundai|   127000|Diesel| First Owner|       225000|\n",
            "|  Maruti|   120000|Petrol| First Owner|       130000|\n",
            "| Hyundai|    45000|Petrol| First Owner|       440000|\n",
            "|  Maruti|   175000|   LPG| First Owner|        96000|\n",
            "|  Maruti|     5000|Petrol|Second Owner|        45000|\n",
            "|  Toyota|    90000|Diesel| First Owner|       350000|\n",
            "|    Ford|   169000|Diesel| First Owner|       200000|\n",
            "| Renault|    68000|Diesel|Second Owner|       500000|\n",
            "|  Maruti|   100000|Petrol|Second Owner|        92000|\n",
            "|  Maruti|   140000|Diesel|Second Owner|       280000|\n",
            "|  Maruti|    80000|Petrol|Second Owner|       200000|\n",
            "|  Maruti|    90000|Petrol|Second Owner|       180000|\n",
            "|Mahindra|    40000|Petrol| First Owner|       400000|\n",
            "|  Maruti|    70000|Diesel|Second Owner|       778000|\n",
            "| Hyundai|    53000|Diesel|Second Owner|       500000|\n",
            "|  Maruti|    80000|Petrol|Second Owner|       150000|\n",
            "+--------+---------+------+------------+-------------+\n",
            "only showing top 20 rows\n",
            "\n"
          ]
        }
      ]
    },
    {
      "cell_type": "code",
      "source": [
        "df_pyspark=spark.read.option('header', 'true').csv('cars.csv')\n",
        "# if inferSchema = True"
      ],
      "metadata": {
        "id": "u7rOxPxGp-HZ"
      },
      "execution_count": 9,
      "outputs": []
    },
    {
      "cell_type": "code",
      "source": [
        "type(df_pyspark)"
      ],
      "metadata": {
        "colab": {
          "base_uri": "https://localhost:8080/",
          "height": 203
        },
        "id": "Ms7W2IGAqOi8",
        "outputId": "aeb0c22f-2d70-4f8c-8fab-74efea437edb"
      },
      "execution_count": 10,
      "outputs": [
        {
          "output_type": "execute_result",
          "data": {
            "text/plain": [
              "pyspark.sql.dataframe.DataFrame"
            ],
            "text/html": [
              "<div style=\"max-width:800px; border: 1px solid var(--colab-border-color);\"><style>\n",
              "      pre.function-repr-contents {\n",
              "        overflow-x: auto;\n",
              "        padding: 8px 12px;\n",
              "        max-height: 500px;\n",
              "      }\n",
              "\n",
              "      pre.function-repr-contents.function-repr-contents-collapsed {\n",
              "        cursor: pointer;\n",
              "        max-height: 100px;\n",
              "      }\n",
              "    </style>\n",
              "    <pre style=\"white-space: initial; background:\n",
              "         var(--colab-secondary-surface-color); padding: 8px 12px;\n",
              "         border-bottom: 1px solid var(--colab-border-color);\"><b>pyspark.sql.dataframe.DataFrame</b><br/>def __init__(jdf: JavaObject, sql_ctx: Union[&#x27;SQLContext&#x27;, &#x27;SparkSession&#x27;])</pre><pre class=\"function-repr-contents function-repr-contents-collapsed\" style=\"\"><a class=\"filepath\" style=\"display:none\" href=\"#\">/usr/local/lib/python3.12/dist-packages/pyspark/sql/dataframe.py</a>A distributed collection of data grouped into named columns.\n",
              "\n",
              ".. versionadded:: 1.3.0\n",
              "\n",
              ".. versionchanged:: 3.4.0\n",
              "    Supports Spark Connect.\n",
              "\n",
              "Examples\n",
              "--------\n",
              "A :class:`DataFrame` is equivalent to a relational table in Spark SQL,\n",
              "and can be created using various functions in :class:`SparkSession`:\n",
              "\n",
              "&gt;&gt;&gt; people = spark.createDataFrame([\n",
              "...     {&quot;deptId&quot;: 1, &quot;age&quot;: 40, &quot;name&quot;: &quot;Hyukjin Kwon&quot;, &quot;gender&quot;: &quot;M&quot;, &quot;salary&quot;: 50},\n",
              "...     {&quot;deptId&quot;: 1, &quot;age&quot;: 50, &quot;name&quot;: &quot;Takuya Ueshin&quot;, &quot;gender&quot;: &quot;M&quot;, &quot;salary&quot;: 100},\n",
              "...     {&quot;deptId&quot;: 2, &quot;age&quot;: 60, &quot;name&quot;: &quot;Xinrong Meng&quot;, &quot;gender&quot;: &quot;F&quot;, &quot;salary&quot;: 150},\n",
              "...     {&quot;deptId&quot;: 3, &quot;age&quot;: 20, &quot;name&quot;: &quot;Haejoon Lee&quot;, &quot;gender&quot;: &quot;M&quot;, &quot;salary&quot;: 200}\n",
              "... ])\n",
              "\n",
              "Once created, it can be manipulated using the various domain-specific-language\n",
              "(DSL) functions defined in: :class:`DataFrame`, :class:`Column`.\n",
              "\n",
              "To select a column from the :class:`DataFrame`, use the apply method:\n",
              "\n",
              "&gt;&gt;&gt; age_col = people.age\n",
              "\n",
              "A more concrete example:\n",
              "\n",
              "&gt;&gt;&gt; # To create DataFrame using SparkSession\n",
              "... department = spark.createDataFrame([\n",
              "...     {&quot;id&quot;: 1, &quot;name&quot;: &quot;PySpark&quot;},\n",
              "...     {&quot;id&quot;: 2, &quot;name&quot;: &quot;ML&quot;},\n",
              "...     {&quot;id&quot;: 3, &quot;name&quot;: &quot;Spark SQL&quot;}\n",
              "... ])\n",
              "\n",
              "&gt;&gt;&gt; people.filter(people.age &gt; 30).join(\n",
              "...     department, people.deptId == department.id).groupBy(\n",
              "...     department.name, &quot;gender&quot;).agg({&quot;salary&quot;: &quot;avg&quot;, &quot;age&quot;: &quot;max&quot;}).show()\n",
              "+-------+------+-----------+--------+\n",
              "|   name|gender|avg(salary)|max(age)|\n",
              "+-------+------+-----------+--------+\n",
              "|     ML|     F|      150.0|      60|\n",
              "|PySpark|     M|       75.0|      50|\n",
              "+-------+------+-----------+--------+\n",
              "\n",
              "Notes\n",
              "-----\n",
              "A DataFrame should only be created as described above. It should not be directly\n",
              "created via using the constructor.</pre>\n",
              "      <script>\n",
              "      if (google.colab.kernel.accessAllowed && google.colab.files && google.colab.files.view) {\n",
              "        for (const element of document.querySelectorAll('.filepath')) {\n",
              "          element.style.display = 'block'\n",
              "          element.onclick = (event) => {\n",
              "            event.preventDefault();\n",
              "            event.stopPropagation();\n",
              "            google.colab.files.view(element.textContent, 80);\n",
              "          };\n",
              "        }\n",
              "      }\n",
              "      for (const element of document.querySelectorAll('.function-repr-contents')) {\n",
              "        element.onclick = (event) => {\n",
              "          event.preventDefault();\n",
              "          event.stopPropagation();\n",
              "          element.classList.toggle('function-repr-contents-collapsed');\n",
              "        };\n",
              "      }\n",
              "      </script>\n",
              "      </div>"
            ]
          },
          "metadata": {},
          "execution_count": 10
        }
      ]
    },
    {
      "cell_type": "code",
      "source": [
        "df_pyspark.printSchema()"
      ],
      "metadata": {
        "colab": {
          "base_uri": "https://localhost:8080/"
        },
        "id": "H94-TX4kqYZ5",
        "outputId": "ce77a7d0-8b6c-4ecd-8280-ae7defed8d13"
      },
      "execution_count": 11,
      "outputs": [
        {
          "output_type": "stream",
          "name": "stdout",
          "text": [
            "root\n",
            " |-- brand: string (nullable = true)\n",
            " |-- km_driven: string (nullable = true)\n",
            " |-- fuel: string (nullable = true)\n",
            " |-- owner: string (nullable = true)\n",
            " |-- selling_price: string (nullable = true)\n",
            "\n"
          ]
        }
      ]
    },
    {
      "cell_type": "code",
      "source": [
        "df_pyspark=spark.read.option('header', 'true').csv('cars.csv', inferSchema = True)"
      ],
      "metadata": {
        "id": "AOSwWoINqleu"
      },
      "execution_count": 13,
      "outputs": []
    },
    {
      "cell_type": "code",
      "source": [
        "df_pyspark.printSchema()"
      ],
      "metadata": {
        "colab": {
          "base_uri": "https://localhost:8080/"
        },
        "id": "hXEVSCzWu4UG",
        "outputId": "658581f1-aac3-47a8-fca9-1a222859fc40"
      },
      "execution_count": 14,
      "outputs": [
        {
          "output_type": "stream",
          "name": "stdout",
          "text": [
            "root\n",
            " |-- brand: string (nullable = true)\n",
            " |-- km_driven: integer (nullable = true)\n",
            " |-- fuel: string (nullable = true)\n",
            " |-- owner: string (nullable = true)\n",
            " |-- selling_price: integer (nullable = true)\n",
            "\n"
          ]
        }
      ]
    },
    {
      "cell_type": "code",
      "source": [
        "df_pyspark.head()"
      ],
      "metadata": {
        "colab": {
          "base_uri": "https://localhost:8080/"
        },
        "id": "q1Q-JwyGu7Bt",
        "outputId": "2cc50af0-289f-4b1b-9267-ddd1a441946d"
      },
      "execution_count": 12,
      "outputs": [
        {
          "output_type": "execute_result",
          "data": {
            "text/plain": [
              "Row(brand='Maruti', km_driven='145500', fuel='Diesel', owner='First Owner', selling_price='450000')"
            ]
          },
          "metadata": {},
          "execution_count": 12
        }
      ]
    },
    {
      "cell_type": "code",
      "source": [
        "df_pyspark.select(['brand', 'fuel']).show()"
      ],
      "metadata": {
        "colab": {
          "base_uri": "https://localhost:8080/"
        },
        "id": "wD3Q3-i9czzm",
        "outputId": "863430bf-a5d7-4f4a-f1b1-e4669729c8d9"
      },
      "execution_count": 13,
      "outputs": [
        {
          "output_type": "stream",
          "name": "stdout",
          "text": [
            "+--------+------+\n",
            "|   brand|  fuel|\n",
            "+--------+------+\n",
            "|  Maruti|Diesel|\n",
            "|   Skoda|Diesel|\n",
            "|   Honda|Petrol|\n",
            "| Hyundai|Diesel|\n",
            "|  Maruti|Petrol|\n",
            "| Hyundai|Petrol|\n",
            "|  Maruti|   LPG|\n",
            "|  Maruti|Petrol|\n",
            "|  Toyota|Diesel|\n",
            "|    Ford|Diesel|\n",
            "| Renault|Diesel|\n",
            "|  Maruti|Petrol|\n",
            "|  Maruti|Diesel|\n",
            "|  Maruti|Petrol|\n",
            "|  Maruti|Petrol|\n",
            "|Mahindra|Petrol|\n",
            "|  Maruti|Diesel|\n",
            "| Hyundai|Diesel|\n",
            "|  Maruti|Petrol|\n",
            "| Hyundai|Diesel|\n",
            "+--------+------+\n",
            "only showing top 20 rows\n",
            "\n"
          ]
        }
      ]
    },
    {
      "cell_type": "code",
      "source": [
        "df_pyspark.describe()"
      ],
      "metadata": {
        "colab": {
          "base_uri": "https://localhost:8080/"
        },
        "id": "F5jk4_FzdvBL",
        "outputId": "2e931621-2e50-4162-aadb-7b06faa20709"
      },
      "execution_count": 14,
      "outputs": [
        {
          "output_type": "execute_result",
          "data": {
            "text/plain": [
              "DataFrame[summary: string, brand: string, km_driven: string, fuel: string, owner: string, selling_price: string]"
            ]
          },
          "metadata": {},
          "execution_count": 14
        }
      ]
    },
    {
      "cell_type": "code",
      "source": [
        "df_pyspark.describe().show()"
      ],
      "metadata": {
        "colab": {
          "base_uri": "https://localhost:8080/"
        },
        "id": "69CzF3iaeHKU",
        "outputId": "76b86431-ed57-439b-d328-9a8cd32f34b1"
      },
      "execution_count": 15,
      "outputs": [
        {
          "output_type": "stream",
          "name": "stdout",
          "text": [
            "+-------+----------+------------------+------+-----------+-----------------+\n",
            "|summary|     brand|         km_driven|  fuel|      owner|    selling_price|\n",
            "+-------+----------+------------------+------+-----------+-----------------+\n",
            "|  count|      8128|              8128|  8128|       8128|             8128|\n",
            "|   mean|      NULL| 69819.51082677166|  NULL|       NULL|638271.8077017716|\n",
            "| stddev|      NULL|56550.554958219276|  NULL|       NULL|806253.4035082327|\n",
            "|    min|Ambassador|                 1|   CNG|First Owner|           100000|\n",
            "|    max|     Volvo|             99500|Petrol|Third Owner|           999000|\n",
            "+-------+----------+------------------+------+-----------+-----------------+\n",
            "\n"
          ]
        }
      ]
    },
    {
      "cell_type": "code",
      "source": [
        "### adding columns to dataframe\n",
        "df_pyspark.withColumn('Km driven after 2000 kms',df_pyspark['km_driven']+2000)"
      ],
      "metadata": {
        "colab": {
          "base_uri": "https://localhost:8080/"
        },
        "id": "JQ-4C8veeKx_",
        "outputId": "a894a93a-83fd-4614-a352-b5d50b3b1abe"
      },
      "execution_count": 16,
      "outputs": [
        {
          "output_type": "execute_result",
          "data": {
            "text/plain": [
              "DataFrame[brand: string, km_driven: string, fuel: string, owner: string, selling_price: string, Km driven after 2000 kms: double]"
            ]
          },
          "metadata": {},
          "execution_count": 16
        }
      ]
    },
    {
      "cell_type": "code",
      "source": [
        "### adding columns to dataframe\n",
        "df_pyspark.withColumn('Km driven after 2000 kms',df_pyspark['km_driven']+2000).show()"
      ],
      "metadata": {
        "colab": {
          "base_uri": "https://localhost:8080/"
        },
        "id": "76G-DGxie8ad",
        "outputId": "4782a71d-ff7f-49d1-bba4-a394a46cd6a1"
      },
      "execution_count": 17,
      "outputs": [
        {
          "output_type": "stream",
          "name": "stdout",
          "text": [
            "+--------+---------+------+------------+-------------+------------------------+\n",
            "|   brand|km_driven|  fuel|       owner|selling_price|Km driven after 2000 kms|\n",
            "+--------+---------+------+------------+-------------+------------------------+\n",
            "|  Maruti|   145500|Diesel| First Owner|       450000|                147500.0|\n",
            "|   Skoda|   120000|Diesel|Second Owner|       370000|                122000.0|\n",
            "|   Honda|   140000|Petrol| Third Owner|       158000|                142000.0|\n",
            "| Hyundai|   127000|Diesel| First Owner|       225000|                129000.0|\n",
            "|  Maruti|   120000|Petrol| First Owner|       130000|                122000.0|\n",
            "| Hyundai|    45000|Petrol| First Owner|       440000|                 47000.0|\n",
            "|  Maruti|   175000|   LPG| First Owner|        96000|                177000.0|\n",
            "|  Maruti|     5000|Petrol|Second Owner|        45000|                  7000.0|\n",
            "|  Toyota|    90000|Diesel| First Owner|       350000|                 92000.0|\n",
            "|    Ford|   169000|Diesel| First Owner|       200000|                171000.0|\n",
            "| Renault|    68000|Diesel|Second Owner|       500000|                 70000.0|\n",
            "|  Maruti|   100000|Petrol|Second Owner|        92000|                102000.0|\n",
            "|  Maruti|   140000|Diesel|Second Owner|       280000|                142000.0|\n",
            "|  Maruti|    80000|Petrol|Second Owner|       200000|                 82000.0|\n",
            "|  Maruti|    90000|Petrol|Second Owner|       180000|                 92000.0|\n",
            "|Mahindra|    40000|Petrol| First Owner|       400000|                 42000.0|\n",
            "|  Maruti|    70000|Diesel|Second Owner|       778000|                 72000.0|\n",
            "| Hyundai|    53000|Diesel|Second Owner|       500000|                 55000.0|\n",
            "|  Maruti|    80000|Petrol|Second Owner|       150000|                 82000.0|\n",
            "| Hyundai|   100000|Diesel| First Owner|       680000|                102000.0|\n",
            "+--------+---------+------+------------+-------------+------------------------+\n",
            "only showing top 20 rows\n",
            "\n"
          ]
        }
      ]
    },
    {
      "cell_type": "code",
      "source": [
        "df_pyspark = df_pyspark.withColumn('Km driven after 2000 kms',df_pyspark['km_driven']+2000)"
      ],
      "metadata": {
        "id": "GUwAbj6Ofc2j"
      },
      "execution_count": 18,
      "outputs": []
    },
    {
      "cell_type": "code",
      "source": [
        "df_pyspark.show()"
      ],
      "metadata": {
        "colab": {
          "base_uri": "https://localhost:8080/"
        },
        "id": "7Nx-nVFxfioz",
        "outputId": "3354c2d9-9c9a-407e-d27f-5167a63ca986"
      },
      "execution_count": 19,
      "outputs": [
        {
          "output_type": "stream",
          "name": "stdout",
          "text": [
            "+--------+---------+------+------------+-------------+------------------------+\n",
            "|   brand|km_driven|  fuel|       owner|selling_price|Km driven after 2000 kms|\n",
            "+--------+---------+------+------------+-------------+------------------------+\n",
            "|  Maruti|   145500|Diesel| First Owner|       450000|                147500.0|\n",
            "|   Skoda|   120000|Diesel|Second Owner|       370000|                122000.0|\n",
            "|   Honda|   140000|Petrol| Third Owner|       158000|                142000.0|\n",
            "| Hyundai|   127000|Diesel| First Owner|       225000|                129000.0|\n",
            "|  Maruti|   120000|Petrol| First Owner|       130000|                122000.0|\n",
            "| Hyundai|    45000|Petrol| First Owner|       440000|                 47000.0|\n",
            "|  Maruti|   175000|   LPG| First Owner|        96000|                177000.0|\n",
            "|  Maruti|     5000|Petrol|Second Owner|        45000|                  7000.0|\n",
            "|  Toyota|    90000|Diesel| First Owner|       350000|                 92000.0|\n",
            "|    Ford|   169000|Diesel| First Owner|       200000|                171000.0|\n",
            "| Renault|    68000|Diesel|Second Owner|       500000|                 70000.0|\n",
            "|  Maruti|   100000|Petrol|Second Owner|        92000|                102000.0|\n",
            "|  Maruti|   140000|Diesel|Second Owner|       280000|                142000.0|\n",
            "|  Maruti|    80000|Petrol|Second Owner|       200000|                 82000.0|\n",
            "|  Maruti|    90000|Petrol|Second Owner|       180000|                 92000.0|\n",
            "|Mahindra|    40000|Petrol| First Owner|       400000|                 42000.0|\n",
            "|  Maruti|    70000|Diesel|Second Owner|       778000|                 72000.0|\n",
            "| Hyundai|    53000|Diesel|Second Owner|       500000|                 55000.0|\n",
            "|  Maruti|    80000|Petrol|Second Owner|       150000|                 82000.0|\n",
            "| Hyundai|   100000|Diesel| First Owner|       680000|                102000.0|\n",
            "+--------+---------+------+------------+-------------+------------------------+\n",
            "only showing top 20 rows\n",
            "\n"
          ]
        }
      ]
    },
    {
      "cell_type": "code",
      "source": [
        "### drop the columns\n",
        "df_pyspark=df_pyspark.drop('Km driven after 2000 kms')"
      ],
      "metadata": {
        "id": "IOaWIqDUfBMC"
      },
      "execution_count": 20,
      "outputs": []
    },
    {
      "cell_type": "code",
      "source": [
        "df_pyspark.show()"
      ],
      "metadata": {
        "colab": {
          "base_uri": "https://localhost:8080/"
        },
        "id": "724pM3DIgJu1",
        "outputId": "bce0e0fe-3756-4d6b-a1b0-b7d010c3ee75"
      },
      "execution_count": 21,
      "outputs": [
        {
          "output_type": "stream",
          "name": "stdout",
          "text": [
            "+--------+---------+------+------------+-------------+\n",
            "|   brand|km_driven|  fuel|       owner|selling_price|\n",
            "+--------+---------+------+------------+-------------+\n",
            "|  Maruti|   145500|Diesel| First Owner|       450000|\n",
            "|   Skoda|   120000|Diesel|Second Owner|       370000|\n",
            "|   Honda|   140000|Petrol| Third Owner|       158000|\n",
            "| Hyundai|   127000|Diesel| First Owner|       225000|\n",
            "|  Maruti|   120000|Petrol| First Owner|       130000|\n",
            "| Hyundai|    45000|Petrol| First Owner|       440000|\n",
            "|  Maruti|   175000|   LPG| First Owner|        96000|\n",
            "|  Maruti|     5000|Petrol|Second Owner|        45000|\n",
            "|  Toyota|    90000|Diesel| First Owner|       350000|\n",
            "|    Ford|   169000|Diesel| First Owner|       200000|\n",
            "| Renault|    68000|Diesel|Second Owner|       500000|\n",
            "|  Maruti|   100000|Petrol|Second Owner|        92000|\n",
            "|  Maruti|   140000|Diesel|Second Owner|       280000|\n",
            "|  Maruti|    80000|Petrol|Second Owner|       200000|\n",
            "|  Maruti|    90000|Petrol|Second Owner|       180000|\n",
            "|Mahindra|    40000|Petrol| First Owner|       400000|\n",
            "|  Maruti|    70000|Diesel|Second Owner|       778000|\n",
            "| Hyundai|    53000|Diesel|Second Owner|       500000|\n",
            "|  Maruti|    80000|Petrol|Second Owner|       150000|\n",
            "| Hyundai|   100000|Diesel| First Owner|       680000|\n",
            "+--------+---------+------+------------+-------------+\n",
            "only showing top 20 rows\n",
            "\n"
          ]
        }
      ]
    },
    {
      "cell_type": "code",
      "source": [
        "## rename the columns\n",
        "df_pyspark= df_pyspark.withColumnRenamed('fuel' , 'fuel_type')"
      ],
      "metadata": {
        "id": "-FzMCoTXgNCF"
      },
      "execution_count": 22,
      "outputs": []
    },
    {
      "cell_type": "code",
      "source": [
        "df_pyspark.show()"
      ],
      "metadata": {
        "colab": {
          "base_uri": "https://localhost:8080/"
        },
        "id": "IKlhOymggk4s",
        "outputId": "918b6492-379e-4206-cae7-367617f05dd1"
      },
      "execution_count": 23,
      "outputs": [
        {
          "output_type": "stream",
          "name": "stdout",
          "text": [
            "+--------+---------+---------+------------+-------------+\n",
            "|   brand|km_driven|fuel_type|       owner|selling_price|\n",
            "+--------+---------+---------+------------+-------------+\n",
            "|  Maruti|   145500|   Diesel| First Owner|       450000|\n",
            "|   Skoda|   120000|   Diesel|Second Owner|       370000|\n",
            "|   Honda|   140000|   Petrol| Third Owner|       158000|\n",
            "| Hyundai|   127000|   Diesel| First Owner|       225000|\n",
            "|  Maruti|   120000|   Petrol| First Owner|       130000|\n",
            "| Hyundai|    45000|   Petrol| First Owner|       440000|\n",
            "|  Maruti|   175000|      LPG| First Owner|        96000|\n",
            "|  Maruti|     5000|   Petrol|Second Owner|        45000|\n",
            "|  Toyota|    90000|   Diesel| First Owner|       350000|\n",
            "|    Ford|   169000|   Diesel| First Owner|       200000|\n",
            "| Renault|    68000|   Diesel|Second Owner|       500000|\n",
            "|  Maruti|   100000|   Petrol|Second Owner|        92000|\n",
            "|  Maruti|   140000|   Diesel|Second Owner|       280000|\n",
            "|  Maruti|    80000|   Petrol|Second Owner|       200000|\n",
            "|  Maruti|    90000|   Petrol|Second Owner|       180000|\n",
            "|Mahindra|    40000|   Petrol| First Owner|       400000|\n",
            "|  Maruti|    70000|   Diesel|Second Owner|       778000|\n",
            "| Hyundai|    53000|   Diesel|Second Owner|       500000|\n",
            "|  Maruti|    80000|   Petrol|Second Owner|       150000|\n",
            "| Hyundai|   100000|   Diesel| First Owner|       680000|\n",
            "+--------+---------+---------+------------+-------------+\n",
            "only showing top 20 rows\n",
            "\n"
          ]
        }
      ]
    },
    {
      "cell_type": "code",
      "source": [],
      "metadata": {
        "id": "DgO9LDa4gmt8"
      },
      "execution_count": null,
      "outputs": []
    }
  ]
}